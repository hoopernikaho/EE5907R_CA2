{
 "cells": [
  {
   "cell_type": "code",
   "execution_count": 25,
   "metadata": {
    "collapsed": false,
    "deletable": true,
    "editable": true
   },
   "outputs": [],
   "source": [
    "from __future__ import division\n",
    "import os.path\n",
    "import numpy as np\n",
    "import tqdm # task bar\n",
    "import matplotlib.pyplot as plt\n",
    "%matplotlib notebook\n",
    "import idx2numpy as inp\n",
    "import scipy.sparse.linalg\n",
    "import scipy.spatial.distance as dist\n",
    "from sklearn import svm\n",
    "\n",
    "from cvxopt import matrix\n",
    "from cvxopt import solvers"
   ]
  },
  {
   "cell_type": "markdown",
   "metadata": {
    "deletable": true,
    "editable": true
   },
   "source": [
    "# Import Data"
   ]
  },
  {
   "cell_type": "code",
   "execution_count": 3,
   "metadata": {
    "collapsed": true,
    "deletable": true,
    "editable": true
   },
   "outputs": [],
   "source": [
    "TrImgs = np.array([img.flatten() for img in inp.convert_from_file('train-images.idx3-ubyte')])\n",
    "TrLbls = inp.convert_from_file('train-labels.idx1-ubyte')\n",
    "TsLbls = inp.convert_from_file('t10k-labels.idx1-ubyte')"
   ]
  },
  {
   "cell_type": "code",
   "execution_count": 4,
   "metadata": {
    "collapsed": true,
    "deletable": true,
    "editable": true
   },
   "outputs": [],
   "source": [
    "[TrImgs40Comps,TrImgs80Comps,TrImgs200Comps] = [np.load('TrImgs{}Comps.npy'.format(c)) for c in [40,80,200]]\n",
    "[TsImgs40Comps,TsImgs80Comps,TsImgs200Comps] = [np.load('TsImgs{}Comps.npy'.format(c)) for c in [40,80,200]]"
   ]
  },
  {
   "cell_type": "markdown",
   "metadata": {
    "collapsed": true,
    "deletable": true,
    "editable": true
   },
   "source": [
    "## Test with Scikitlearn package to check expected accuracy"
   ]
  },
  {
   "cell_type": "code",
   "execution_count": 5,
   "metadata": {
    "collapsed": false,
    "deletable": true,
    "editable": true
   },
   "outputs": [
    {
     "data": {
      "text/plain": [
       "LinearSVC(C=1.0, class_weight=None, dual=True, fit_intercept=True,\n",
       "     intercept_scaling=1, loss='squared_hinge', max_iter=1000,\n",
       "     multi_class='ovr', penalty='l2', random_state=None, tol=0.0001,\n",
       "     verbose=0)"
      ]
     },
     "execution_count": 5,
     "metadata": {},
     "output_type": "execute_result"
    }
   ],
   "source": [
    "clf = svm.LinearSVC()\n",
    "clf.fit(TrImgs40Comps[:1000],TrLbls[:1000])"
   ]
  },
  {
   "cell_type": "code",
   "execution_count": 6,
   "metadata": {
    "collapsed": false,
    "deletable": true,
    "editable": true
   },
   "outputs": [
    {
     "name": "stdout",
     "output_type": "stream",
     "text": [
      "Approx Fit Accuracy = 72.5 %\n"
     ]
    }
   ],
   "source": [
    "print 'Approx Fit Accuracy = {} %'.format(np.sum([clf.predict([TrImgs40Comps[2000+i]])==TrLbls[2000+i] for i in np.arange(40)])/40*100)"
   ]
  },
  {
   "cell_type": "markdown",
   "metadata": {
    "deletable": true,
    "editable": true
   },
   "source": [
    "# Build QP \n",
    "Minimise over X: 0.5 X.P.X + q.X (cvxopt notation)\n",
    "\n",
    "Minimise over W,b,{e}\n",
    "under constraints A,B (see below)\n",
    "\n",
    "where X = [W,b,{e}]\n",
    "* W: D-element vector\n",
    "* b: scalar\n",
    "* {e}: N-element vector\n",
    "Hence\n",
    "\n",
    "* P = Identity(D+1) subspace\n",
    "* q = c * Identity(N) subspace"
   ]
  },
  {
   "cell_type": "markdown",
   "metadata": {
    "deletable": true,
    "editable": true
   },
   "source": [
    "## Cast Constraints into array\n",
    "takes Training Images and Labels, and Constraint (constraint parameter) as input \n",
    "and casts the constraint equations:\n",
    "* yi * (w.xi + b) + ei >= 1 (Constraint A: N of them)\n",
    "* ei >= 0 (Constraint B: N of them)\n",
    "\n",
    "which can be expressed in a giant matrix inequality GX <= h acceptable to cvxopt (QP library):\n",
    "* G: Constraint Array = -[[Ga, Gb],[Gc, Gd]] (shape = 2N by D+1+N)\n",
    "    * Ga = [y1[x1, 1],y2[x2, 1],...,yN[xN, 1]], where x1 is D elements long (shape = N by D+1) \n",
    "    * Gb = Identity(N) (shape = N by N)\n",
    "    * Gc = Zero(N) (shape = N by D+1)\n",
    "    * Gd = Identity(N) \n",
    "* X: [w1,w2,...,wD,b,e1,e2,...,eN] (D+1+N)\n",
    "* h: -[1,....,1,0,...,0] (N x 1's and N x 0's)\n",
    "* the negative coefficient is to convert the original '>=' AB constraints into '<=' constraints\n",
    "\n",
    "For each class, we build a G."
   ]
  },
  {
   "cell_type": "code",
   "execution_count": 147,
   "metadata": {
    "collapsed": true,
    "deletable": true,
    "editable": true
   },
   "outputs": [],
   "source": [
    "def QP_params(Imgs,Lbls,Class,ConstraintParameter):\n",
    "    \"\"\"\n",
    "    Builds Quadratic Programming Parameters\n",
    "    \"\"\"\n",
    "    BinLbls = (-1)**(np.array([Lbls==Class]).astype('int')+1).flatten()\n",
    "    N = len(Lbls)\n",
    "    D = len(Imgs[0])\n",
    "    \"\"\"Builds G, the constraint array for training linear SVM for specified class Class\"\"\"\n",
    "    yx = [BinLbls[i] * Imgs[i] for i in np.arange(N)]\n",
    "    Ga = np.c_[yx,BinLbls]\n",
    "    Gb = np.identity(N)\n",
    "    Gc = np.zeros((N,D+1))\n",
    "    Gd = np.identity(N)\n",
    "    G = -np.r_[np.c_[Ga,Gb],np.c_[Gc,Gd]]\n",
    "    \"\"\"Build h\"\"\"\n",
    "    h = -np.r_[np.ones(N),np.zeros(N)]\n",
    "    \"\"\"Build P, q\"\"\"\n",
    "    P = np.r_[np.c_[np.identity(D+1),np.zeros((D+1,N))],np.zeros((N,D+1+N))]\n",
    "    q = ConstraintParameter * \\\n",
    "    np.r_[np.zeros(D+1),np.ones(N)]\n",
    "    return P, q, G, h"
   ]
  },
  {
   "cell_type": "code",
   "execution_count": 21,
   "metadata": {
    "collapsed": false,
    "deletable": true,
    "editable": true
   },
   "outputs": [
    {
     "name": "stdout",
     "output_type": "stream",
     "text": [
      "(5,)\n"
     ]
    }
   ],
   "source": [
    "p,q,g,h = QP_params(TrImgs40Comps[:5],TrLbls[:5],1,1)"
   ]
  },
  {
   "cell_type": "code",
   "execution_count": 78,
   "metadata": {
    "collapsed": false,
    "deletable": true,
    "editable": true
   },
   "outputs": [],
   "source": [
    "def FitSVM(Imgs,Lbls,Class,ConstraintParameter):\n",
    "    N = len(Lbls)\n",
    "    D = len(Imgs[0])\n",
    "    P,q,G,h = QP_params(Imgs,Lbls,Class,ConstraintParameter)\n",
    "    P = matrix(P)\n",
    "    q = matrix(q)\n",
    "    G = matrix(G)\n",
    "    h = matrix(h)\n",
    "    sol = solvers.qp(P,q,G,h)\n",
    "    X = np.array(sol['x'])\n",
    "    w = X[:D] # up to and includes index D-1 (the D-th element)\n",
    "    b = X[D] # index D (the D+1 th element)\n",
    "    e = X[-N:]\n",
    "    return w, b, e"
   ]
  },
  {
   "cell_type": "code",
   "execution_count": 135,
   "metadata": {
    "collapsed": false
   },
   "outputs": [
    {
     "data": {
      "text/plain": [
       "(5785,)"
      ]
     },
     "execution_count": 135,
     "metadata": {},
     "output_type": "execute_result"
    }
   ],
   "source": [
    "np.r_[w.flatten(),b,e.flatten()].reshape"
   ]
  },
  {
   "cell_type": "code",
   "execution_count": 145,
   "metadata": {
    "collapsed": false,
    "deletable": true,
    "editable": true
   },
   "outputs": [],
   "source": [
    "def FitAllSVM(Imgs,Lbls,p,ConstraintParameter):\n",
    "    \"\"\"Fit Data for All Classes\"\"\"\n",
    "    f = open('SVM_fit_params_{}_components_{}_constraint.dat'.format(p,ConstraintParameter),'a')\n",
    "    classes = np.unique(Lbls)\n",
    "    for Class in classes:\n",
    "        print('Fitting Class {}\\n'.format(Class))\n",
    "        w,b,e = FitSVM(Imgs,Lbls,Class,ConstraintParameter)\n",
    "        X = np.r_[w.flatten(),b,e.flatten()]\n",
    "        L = len(X)\n",
    "        X = X.reshape(1,L)\n",
    "        np.savetxt(f,X)\n",
    "    f.close()"
   ]
  },
  {
   "cell_type": "code",
   "execution_count": 146,
   "metadata": {
    "collapsed": false
   },
   "outputs": [
    {
     "name": "stdout",
     "output_type": "stream",
     "text": [
      "Fitting Class 0\n",
      "\n",
      "(100,)\n",
      "     pcost       dcost       gap    pres   dres\n",
      " 0: -9.9774e+01  1.0111e+02  4e+02  3e+00  1e+04\n",
      " 1:  2.3025e+01 -5.4197e+00  3e+01  7e-02  2e+02\n",
      " 2:  4.4969e+00 -9.5332e-01  6e+00  1e-02  4e+01\n",
      " 3:  5.0411e-01 -9.9026e-02  7e-01  1e-03  4e+00\n",
      " 4:  2.7600e-02 -5.4156e-03  4e-02  6e-05  2e-01\n",
      " 5:  3.3763e-03 -6.2516e-04  4e-03  6e-06  2e-02\n",
      " 6:  2.0304e-04 -2.7603e-05  2e-04  2e-07  8e-04\n",
      " 7:  2.1996e-05  1.0039e-05  1e-05  2e-09  8e-06\n",
      " 8:  1.7180e-05  1.3192e-05  4e-06  7e-10  2e-06\n",
      " 9:  1.6407e-05  1.4874e-05  2e-06  4e-11  1e-07\n",
      "10:  1.5501e-05  1.5318e-05  2e-07  4e-12  1e-08\n",
      "11:  1.5392e-05  1.5382e-05  1e-08  3e-14  1e-10\n",
      "Optimal solution found.\n",
      "885\n",
      "Fitting Class 1\n",
      "\n",
      "(100,)\n",
      "     pcost       dcost       gap    pres   dres\n",
      " 0: -9.9493e+01  1.0172e+02  4e+02  3e+00  1e+04\n",
      " 1:  2.2763e+01 -7.0708e+00  4e+01  9e-02  4e+02\n",
      " 2:  5.9160e+00 -1.6075e+00  9e+00  2e-02  8e+01\n",
      " 3:  9.5639e-01 -2.4818e-01  1e+00  2e-03  1e+01\n",
      " 4:  3.2155e-02 -8.3910e-03  5e-02  8e-05  3e-01\n",
      " 5:  5.8304e-03 -1.4499e-03  8e-03  1e-05  5e-02\n",
      " 6:  1.2799e-03 -2.8422e-04  2e-03  2e-06  1e-02\n",
      " 7:  5.9435e-05  2.3127e-06  6e-05  6e-09  3e-05\n",
      " 8:  2.6958e-05  1.4945e-05  1e-05  1e-09  5e-06\n",
      " 9:  2.2511e-05  1.9755e-05  3e-06  9e-11  4e-07\n",
      "10:  2.1074e-05  2.0899e-05  2e-07  3e-12  1e-08\n",
      "11:  2.0983e-05  2.0979e-05  3e-09  5e-14  2e-10\n",
      "Optimal solution found.\n",
      "885\n",
      "Fitting Class 2\n",
      "\n",
      "(100,)\n",
      "     pcost       dcost       gap    pres   dres\n",
      " 0: -9.9723e+01  1.0135e+02  4e+02  3e+00  1e+04\n",
      " 1:  2.2862e+01 -6.0426e+00  3e+01  8e-02  4e+02\n",
      " 2:  4.0372e+00 -8.9677e-01  6e+00  1e-02  5e+01\n",
      " 3:  2.9186e-01 -6.0602e-02  4e-01  6e-04  3e+00\n",
      " 4:  1.1605e-02 -2.3871e-03  2e-02  2e-05  1e-01\n",
      " 5:  2.1903e-03 -4.3158e-04  3e-03  4e-06  2e-02\n",
      " 6:  1.1276e-04 -1.0980e-05  1e-04  1e-07  5e-04\n",
      " 7:  2.0486e-05  1.1215e-05  1e-05  3e-09  2e-05\n",
      " 8:  1.6732e-05  1.3823e-05  3e-06  9e-10  4e-06\n",
      " 9:  1.5665e-05  1.4962e-05  7e-07  1e-15  5e-16\n",
      "10:  1.5250e-05  1.5165e-05  8e-08  1e-15  4e-16\n",
      "Optimal solution found.\n",
      "885\n",
      "Fitting Class 3\n",
      "\n",
      "(100,)\n",
      "     pcost       dcost       gap    pres   dres\n",
      " 0: -9.9501e+01  1.0228e+02  4e+02  3e+00  1e+04\n",
      " 1:  2.2182e+01 -8.5985e+00  4e+01  1e-01  5e+02\n",
      " 2:  6.2955e+00 -1.9860e+00  1e+01  2e-02  9e+01\n",
      " 3:  1.0968e+00 -3.2585e-01  2e+00  3e-03  1e+01\n",
      " 4:  5.2474e-02 -1.4398e-02  8e-02  1e-04  5e-01\n",
      " 5:  9.2970e-03 -2.3477e-03  1e-02  2e-05  8e-02\n",
      " 6:  1.6638e-03 -3.5769e-04  2e-03  3e-06  1e-02\n",
      " 7:  8.6213e-05  1.2067e-05  7e-05  1e-10  4e-07\n",
      " 8:  4.6888e-05  2.7927e-05  2e-05  3e-11  1e-07\n",
      " 9:  3.9764e-05  3.3744e-05  6e-06  6e-12  2e-08\n",
      "10:  3.6840e-05  3.6054e-05  8e-07  4e-13  2e-09\n",
      "11:  3.6407e-05  3.6385e-05  2e-08  1e-14  4e-11\n",
      "Optimal solution found.\n",
      "885\n",
      "Fitting Class 4\n",
      "\n",
      "(100,)\n",
      "     pcost       dcost       gap    pres   dres\n",
      " 0: -9.9527e+01  1.0157e+02  4e+02  3e+00  1e+04\n",
      " 1:  2.2841e+01 -6.7405e+00  4e+01  9e-02  4e+02\n",
      " 2:  6.6309e+00 -1.7395e+00  1e+01  2e-02  8e+01\n",
      " 3:  1.4853e+00 -3.7206e-01  2e+00  3e-03  1e+01\n",
      " 4:  4.0272e-02 -9.4453e-03  6e-02  8e-05  3e-01\n",
      " 5:  4.8031e-03 -1.0909e-03  6e-03  9e-06  4e-02\n",
      " 6:  8.0477e-04 -1.5512e-04  1e-03  1e-06  5e-03\n",
      " 7:  5.1324e-05  6.2235e-06  5e-05  4e-15  5e-16\n",
      " 8:  2.4940e-05  1.5491e-05  9e-06  2e-15  4e-16\n",
      " 9:  2.0625e-05  1.9091e-05  2e-06  2e-15  4e-16\n",
      "10:  1.9995e-05  1.9603e-05  4e-07  1e-15  4e-16\n",
      "11:  1.9794e-05  1.9770e-05  2e-08  1e-15  4e-16\n",
      "Optimal solution found.\n",
      "885\n",
      "Fitting Class 5\n",
      "\n",
      "(100,)\n",
      "     pcost       dcost       gap    pres   dres\n",
      " 0: -9.9648e+01  1.0103e+02  4e+02  3e+00  1e+04\n",
      " 1:  2.3283e+01 -5.1853e+00  3e+01  7e-02  3e+02\n",
      " 2:  5.4252e+00 -1.1050e+00  7e+00  1e-02  6e+01\n",
      " 3:  6.9974e-01 -1.4342e-01  9e-01  1e-03  7e+00\n",
      " 4:  3.1299e-02 -6.4191e-03  4e-02  6e-05  3e-01\n",
      " 5:  4.4399e-03 -8.6469e-04  6e-03  8e-06  4e-02\n",
      " 6:  6.3613e-04 -1.0128e-04  8e-04  9e-07  4e-03\n",
      " 7:  4.0073e-05  1.0328e-05  3e-05  9e-09  4e-05\n",
      " 8:  2.4991e-05  1.7371e-05  8e-06  2e-09  9e-06\n",
      " 9:  2.2864e-05  2.0503e-05  2e-06  1e-10  5e-07\n",
      "10:  2.1534e-05  2.1220e-05  3e-07  1e-15  5e-16\n",
      "11:  2.1340e-05  2.1333e-05  7e-09  1e-15  5e-16\n",
      "Optimal solution found.\n",
      "885\n",
      "Fitting Class 6\n",
      "\n",
      "(100,)\n",
      "     pcost       dcost       gap    pres   dres\n",
      " 0: -9.9764e+01  1.0119e+02  4e+02  3e+00  1e+04\n",
      " 1:  2.2973e+01 -5.6129e+00  3e+01  7e-02  3e+02\n",
      " 2:  4.4934e+00 -9.7155e-01  6e+00  1e-02  5e+01\n",
      " 3:  4.3315e-01 -8.9635e-02  6e-01  1e-03  4e+00\n",
      " 4:  1.3956e-02 -2.9045e-03  2e-02  3e-05  1e-01\n",
      " 5:  2.5030e-03 -5.0921e-04  3e-03  5e-06  2e-02\n",
      " 6:  2.0984e-04 -3.7175e-05  3e-04  3e-07  1e-03\n",
      " 7:  1.3482e-05  2.9081e-06  1e-05  3e-09  1e-05\n",
      " 8:  7.5865e-06  5.3114e-06  2e-06  7e-10  3e-06\n",
      " 9:  6.8974e-06  6.3126e-06  6e-07  2e-11  8e-08\n",
      "10:  6.5572e-06  6.5124e-06  4e-08  4e-13  2e-09\n",
      "Optimal solution found.\n",
      "885\n",
      "Fitting Class 7\n",
      "\n",
      "(100,)\n",
      "     pcost       dcost       gap    pres   dres\n",
      " 0: -9.9457e+01  1.0183e+02  4e+02  3e+00  1e+04\n",
      " 1:  2.2688e+01 -7.3858e+00  4e+01  9e-02  4e+02\n",
      " 2:  6.8185e+00 -2.0090e+00  1e+01  2e-02  1e+02\n",
      " 3:  1.0765e+00 -2.8988e-01  2e+00  3e-03  1e+01\n",
      " 4:  3.5691e-02 -9.5635e-03  5e-02  9e-05  4e-01\n",
      " 5:  6.6758e-03 -1.6773e-03  9e-03  1e-05  6e-02\n",
      " 6:  1.6151e-03 -3.6042e-04  2e-03  3e-06  1e-02\n",
      " 7:  2.9530e-04 -3.3404e-05  4e-04  4e-07  2e-03\n",
      " 8:  4.6227e-05  2.2051e-05  3e-05  2e-08  8e-05\n",
      " 9:  3.1721e-05  2.8402e-05  3e-06  2e-09  9e-06\n",
      "10:  3.0035e-05  2.9696e-05  3e-07  4e-11  2e-07\n",
      "11:  2.9846e-05  2.9827e-05  2e-08  2e-12  9e-09\n",
      "Optimal solution found.\n",
      "885\n",
      "Fitting Class 8\n",
      "\n",
      "(100,)\n",
      "     pcost       dcost       gap    pres   dres\n",
      " 0: -9.9652e+01  1.0129e+02  4e+02  3e+00  1e+04\n",
      " 1:  2.2984e+01 -5.9342e+00  3e+01  8e-02  3e+02\n",
      " 2:  5.9520e+00 -1.4077e+00  8e+00  2e-02  7e+01\n",
      " 3:  6.6988e-01 -1.4480e-01  9e-01  1e-03  6e+00\n",
      " 4:  3.4056e-02 -7.3813e-03  5e-02  7e-05  3e-01\n",
      " 5:  5.8186e-03 -1.1985e-03  8e-03  1e-05  5e-02\n",
      " 6:  7.2341e-04 -1.1708e-04  9e-04  1e-06  4e-03\n",
      " 7:  4.9309e-05  1.4543e-05  4e-05  1e-08  4e-05\n",
      " 8:  2.9527e-05  2.2293e-05  7e-06  2e-09  9e-06\n",
      " 9:  2.7350e-05  2.4673e-05  3e-06  4e-10  2e-06\n",
      "10:  2.5925e-05  2.5679e-05  2e-07  1e-11  5e-08\n",
      "11:  2.5798e-05  2.5782e-05  2e-08  6e-13  3e-09\n",
      "Optimal solution found.\n",
      "885\n",
      "Fitting Class 9\n",
      "\n",
      "(100,)\n",
      "     pcost       dcost       gap    pres   dres\n",
      " 0: -9.9238e+01  1.0163e+02  4e+02  3e+00  1e+04\n",
      " 1:  2.3203e+01 -6.7971e+00  4e+01  9e-02  4e+02\n",
      " 2:  7.1128e+00 -1.8949e+00  1e+01  2e-02  1e+02\n",
      " 3:  1.9105e+00 -5.3499e-01  3e+00  5e-03  2e+01\n",
      " 4:  1.2163e-01 -3.3508e-02  2e-01  3e-04  1e+00\n",
      " 5:  1.2861e-02 -3.1693e-03  2e-02  2e-05  1e-01\n",
      " 6:  1.9372e-03 -3.5449e-04  2e-03  3e-06  1e-02\n",
      " 7:  1.5783e-04  5.5716e-05  1e-04  3e-08  1e-04\n",
      " 8:  1.0288e-04  8.0923e-05  2e-05  6e-09  2e-05\n",
      " 9:  9.4006e-05  8.9195e-05  5e-06  9e-10  4e-06\n",
      "10:  9.2407e-05  9.0852e-05  2e-06  2e-10  7e-07\n",
      "11:  9.1506e-05  9.1458e-05  5e-08  4e-12  2e-08\n",
      "Optimal solution found.\n",
      "885\n"
     ]
    }
   ],
   "source": [
    "FitAllSVM(TrImgs40Comps,TrLbls,40,1e-2)"
   ]
  },
  {
   "cell_type": "code",
   "execution_count": 140,
   "metadata": {
    "collapsed": true
   },
   "outputs": [],
   "source": [
    "r = np.loadtxt('SVM_fit_params_40_components_1_constraint.dat')"
   ]
  },
  {
   "cell_type": "code",
   "execution_count": 144,
   "metadata": {
    "collapsed": false
   },
   "outputs": [
    {
     "data": {
      "text/plain": [
       "(885,)"
      ]
     },
     "execution_count": 144,
     "metadata": {},
     "output_type": "execute_result"
    }
   ],
   "source": [
    "r[0].shape"
   ]
  },
  {
   "cell_type": "code",
   "execution_count": 113,
   "metadata": {
    "collapsed": false
   },
   "outputs": [
    {
     "name": "stdout",
     "output_type": "stream",
     "text": [
      "33 [ 1.65272865]\n",
      "35 [ 5.01032753]\n",
      "64 [ 3.12056477]\n",
      "72 [ 1.49682933]\n",
      "77 [ 2.19805742]\n",
      "82 [ 9.51295666]\n"
     ]
    }
   ],
   "source": [
    "for i in np.arange(100):\n",
    "    if np.dot(w.T,TsImgs40Comps[i])+b >= 1:\n",
    "        print i, np.dot(w.T,TsImgs40Comps[i])+b"
   ]
  },
  {
   "cell_type": "code",
   "execution_count": 112,
   "metadata": {
    "collapsed": false
   },
   "outputs": [
    {
     "name": "stdout",
     "output_type": "stream",
     "text": [
      "1\n",
      "35\n",
      "38\n",
      "43\n",
      "47\n",
      "72\n",
      "77\n",
      "82\n"
     ]
    }
   ],
   "source": [
    "for i in np.arange(100):\n",
    "    if TsLbls[i] == 2:\n",
    "        print i"
   ]
  },
  {
   "cell_type": "code",
   "execution_count": 130,
   "metadata": {
    "collapsed": true
   },
   "outputs": [],
   "source": [
    "f=open('asd.dat','a')\n",
    "for iind in range(4):\n",
    "    a=np.random.rand(2).reshape(1,2)\n",
    "    np.savetxt(f,a)\n",
    "f.close()"
   ]
  },
  {
   "cell_type": "code",
   "execution_count": 128,
   "metadata": {
    "collapsed": false
   },
   "outputs": [
    {
     "data": {
      "text/plain": [
       "array([[ 0.57855072,  0.82239132]])"
      ]
     },
     "execution_count": 128,
     "metadata": {},
     "output_type": "execute_result"
    }
   ],
   "source": [
    "np.random.rand(1,2)"
   ]
  },
  {
   "cell_type": "code",
   "execution_count": null,
   "metadata": {
    "collapsed": true
   },
   "outputs": [],
   "source": []
  }
 ],
 "metadata": {
  "kernelspec": {
   "display_name": "Python 2",
   "language": "python",
   "name": "python2"
  },
  "language_info": {
   "codemirror_mode": {
    "name": "ipython",
    "version": 2
   },
   "file_extension": ".py",
   "mimetype": "text/x-python",
   "name": "python",
   "nbconvert_exporter": "python",
   "pygments_lexer": "ipython2",
   "version": "2.7.12"
  }
 },
 "nbformat": 4,
 "nbformat_minor": 2
}
