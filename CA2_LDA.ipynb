{
 "cells": [
  {
   "cell_type": "code",
   "execution_count": 16,
   "metadata": {
    "collapsed": false,
    "deletable": true,
    "editable": true
   },
   "outputs": [],
   "source": [
    "import os.path\n",
    "import sys\n",
    "import tqdm # task bar\n",
    "import numpy as np\n",
    "import matplotlib.pyplot as plt\n",
    "%matplotlib inline\n",
    "import idx2numpy as inp\n",
    "import scipy.sparse.linalg\n",
    "import scipy.spatial.distance as dist"
   ]
  },
  {
   "cell_type": "markdown",
   "metadata": {
    "deletable": true,
    "editable": true
   },
   "source": [
    "# Loads Database"
   ]
  },
  {
   "cell_type": "code",
   "execution_count": 8,
   "metadata": {
    "collapsed": false,
    "deletable": true,
    "editable": true
   },
   "outputs": [],
   "source": [
    "# also vectorises each 28 x 28 pixel image to a 784-element vector\n",
    "TrImgs = np.array([img.flatten() for img in inp.convert_from_file('train-images.idx3-ubyte')])\n",
    "TrLbls = inp.convert_from_file('train-labels.idx1-ubyte')\n",
    "TsImgs = np.array([img.flatten() for img in inp.convert_from_file('t10k-images.idx3-ubyte')])\n",
    "TsLbls = inp.convert_from_file('t10k-labels.idx1-ubyte')\n",
    "# calculate TRAINING IMGS mean for use in rest of program\n",
    "TrImgsMean = (np.mean(TrImgs,axis=0))"
   ]
  },
  {
   "cell_type": "markdown",
   "metadata": {},
   "source": [
    "## Simple Tools"
   ]
  },
  {
   "cell_type": "code",
   "execution_count": 12,
   "metadata": {
    "collapsed": false
   },
   "outputs": [],
   "source": [
    "show = lambda img: plt.imshow(img.reshape(28,28)) # show vectorised alphabet"
   ]
  },
  {
   "cell_type": "markdown",
   "metadata": {},
   "source": [
    "# Class Means & Between-Class Scatter"
   ]
  },
  {
   "cell_type": "code",
   "execution_count": 187,
   "metadata": {
    "collapsed": false
   },
   "outputs": [],
   "source": [
    "def ClassMeans(Imgs,Lbls):\n",
    "    \"\"\"Returns rows of class-means\"\"\"\n",
    "    class_means = []\n",
    "    classes = np.unique(Lbls) # get unique labels, sorted\n",
    "    for c in classes:\n",
    "        sys.stdout.write(\"\\rDoing class %d\" % c); sys.stdout.flush()\n",
    "        class_imgs = Imgs[Lbls==c] # get set of class images\n",
    "        class_means.append(np.mean(class_imgs,axis=0)) \n",
    "    print(\"\\n\")\n",
    "    return np.array(class_means).astype('float16')"
   ]
  },
  {
   "cell_type": "code",
   "execution_count": 182,
   "metadata": {
    "collapsed": false
   },
   "outputs": [
    {
     "name": "stdout",
     "output_type": "stream",
     "text": [
      "[[1 2]\n",
      " [0 3]]\n",
      "[[5 6]\n",
      " [6 9]]\n"
     ]
    }
   ],
   "source": [
    "# Test Area!\n",
    "v = np.array([[1,0],[2,3]]).T\n",
    "print v\n",
    "print np.dot(v,v.T)"
   ]
  },
  {
   "cell_type": "code",
   "execution_count": 202,
   "metadata": {
    "collapsed": false
   },
   "outputs": [],
   "source": [
    "def Sb(Imgs,Lbls):\n",
    "    \"\"\"Between-Class scatter matrix\"\"\"\n",
    "    Mean = np.mean(Imgs,axis=0)\n",
    "    Means = ClassMeans(Imgs,Lbls)\n",
    "    N = len(Lbls)\n",
    "    \n",
    "    classes = np.unique(Lbls)\n",
    "    C = len(classes)\n",
    "    class_nums = np.array([np.sum(Lbls==c) for c in classes]) # compute class size\n",
    "    class_frac = class_nums*1./N # class fraction\n",
    "    \n",
    "    Sb = np.zeros(shape=(784,784))\n",
    "    \n",
    "    for c in classes:\n",
    "        vec = np.array([Means[c]-Mean]).T # centred class mean expressed as a column vector\n",
    "        Sb += class_frac[c]*np.dot(vec,vec.T) # column * row = matrix !\n",
    "    return Sb"
   ]
  },
  {
   "cell_type": "code",
   "execution_count": 201,
   "metadata": {
    "collapsed": false
   },
   "outputs": [
    {
     "name": "stdout",
     "output_type": "stream",
     "text": [
      "Doing class 9\n",
      "\n"
     ]
    }
   ],
   "source": [
    "TrSb = Sb(TrImgs,TrLbls)"
   ]
  },
  {
   "cell_type": "markdown",
   "metadata": {},
   "source": [
    "# Class Covariances & Within-Class Scatter"
   ]
  },
  {
   "cell_type": "code",
   "execution_count": 218,
   "metadata": {
    "collapsed": false,
    "deletable": true,
    "editable": true
   },
   "outputs": [],
   "source": [
    "def ClassCovars(Imgs,Lbls):\n",
    "    \"\"\"Returns rows of class-covars\"\"\"\n",
    "    classes = np.unique(Lbls)\n",
    "    C = len(classes)\n",
    "    \n",
    "    Covs = np.zeros(shape=(C,784,784))\n",
    "    \n",
    "    for c in classes:\n",
    "#         sys.stdout.write(\"\\rDoing class %d\" % c); sys.stdout.flush()\n",
    "        class_imgs = Imgs[Lbls==c] # get set of class images\n",
    "        class_mean = np.mean(class_imgs,axis=0)\n",
    "        class_covar = np.zeros(shape=(784,784))\n",
    "        n = len(class_imgs)\n",
    "        for i, img in enumerate(class_imgs):\n",
    "            sys.stdout.write(\"\\rDoing class {} img {} of {}\".format(c,i,n)); sys.stdout.flush()\n",
    "            vec = np.array([img-class_mean]).T\n",
    "            Covs[c]+=np.dot(vec,vec.T)\n",
    "        Covs[c] = Covs[c]/n # normalise to number of images in class\n",
    "        print(\"\\n\")\n",
    "    print(\"\\n\")\n",
    "    return np.array(Covs)"
   ]
  },
  {
   "cell_type": "code",
   "execution_count": null,
   "metadata": {
    "collapsed": false
   },
   "outputs": [
    {
     "name": "stdout",
     "output_type": "stream",
     "text": [
      "Doing class 0 img 4673 of 5923"
     ]
    }
   ],
   "source": [
    "TrCovars = ClassCovars(TrImgs,TrLbls)"
   ]
  },
  {
   "cell_type": "code",
   "execution_count": 199,
   "metadata": {
    "collapsed": false
   },
   "outputs": [
    {
     "data": {
      "text/plain": [
       "array([[ 0.,  0.],\n",
       "       [ 0.,  0.]])"
      ]
     },
     "execution_count": 199,
     "metadata": {},
     "output_type": "execute_result"
    }
   ],
   "source": [
    "a[0]"
   ]
  },
  {
   "cell_type": "code",
   "execution_count": null,
   "metadata": {
    "collapsed": true
   },
   "outputs": [],
   "source": []
  }
 ],
 "metadata": {
  "kernelspec": {
   "display_name": "Python 2",
   "language": "python",
   "name": "python2"
  },
  "language_info": {
   "codemirror_mode": {
    "name": "ipython",
    "version": 2
   },
   "file_extension": ".py",
   "mimetype": "text/x-python",
   "name": "python",
   "nbconvert_exporter": "python",
   "pygments_lexer": "ipython2",
   "version": "2.7.12"
  }
 },
 "nbformat": 4,
 "nbformat_minor": 2
}
