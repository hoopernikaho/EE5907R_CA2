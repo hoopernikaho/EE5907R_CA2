{
 "cells": [
  {
   "cell_type": "code",
   "execution_count": 1,
   "metadata": {
    "collapsed": true,
    "deletable": true,
    "editable": true
   },
   "outputs": [],
   "source": [
    "import numpy as np\n",
    "import matplotlib.pyplot as plt\n",
    "%matplotlib inline\n",
    "import idx2numpy as inp"
   ]
  },
  {
   "cell_type": "code",
   "execution_count": 2,
   "metadata": {
    "collapsed": false,
    "deletable": true,
    "editable": true
   },
   "outputs": [],
   "source": [
    "# Loads Database\n",
    "# also vectorises each 28 x 28 pixel image to a 784-element vector\n",
    "TrImgs = np.array([img.flatten() for img in inp.convert_from_file('train-images.idx3-ubyte')])\n",
    "TrLbls = inp.convert_from_file('train-labels.idx1-ubyte')\n",
    "TsImgs = np.array([img.flatten() for img in inp.convert_from_file('t10k-images.idx3-ubyte')])\n",
    "TsLbls = inp.convert_from_file('t10k-labels.idx1-ubyte')"
   ]
  },
  {
   "cell_type": "code",
   "execution_count": 10,
   "metadata": {
    "collapsed": false,
    "deletable": true,
    "editable": true
   },
   "outputs": [
    {
     "name": "stdout",
     "output_type": "stream",
     "text": [
      "60000\n"
     ]
    }
   ],
   "source": [
    "print len(TrImgs)\n",
    "# Verify Import is Correct\n",
    "# i = 6\n",
    "# plt.imshow(TrImgs[i]); print(TrLbls[i])"
   ]
  },
  {
   "cell_type": "code",
   "execution_count": 7,
   "metadata": {
    "collapsed": false,
    "deletable": true,
    "editable": true
   },
   "outputs": [],
   "source": [
    "def pca(Imgs):\n",
    "    \"\"\"\n",
    "    Principle Component Analysis: \n",
    "    1. mean-shifts all images\n",
    "    2. generates list of vectors (principle components (pc)), \n",
    "    organised according to descending eigenvalues.\n",
    "    \n",
    "    :Params Imgs: List of images\n",
    "    \n",
    "    Returns:\n",
    "    u: unitary matrix of pc's\n",
    "    d: singular values in descending order\n",
    "    \"\"\"\n",
    "    ImgsMean = np.mean(Imgs)\n",
    "    ImgsShifted = Imgs-ImgsMean\n",
    "    u, d, _ = np.linalg.svd(ImgsShifted)\n",
    "    return u, d"
   ]
  },
  {
   "cell_type": "code",
   "execution_count": 11,
   "metadata": {
    "collapsed": false,
    "deletable": true,
    "editable": true
   },
   "outputs": [
    {
     "name": "stdout",
     "output_type": "stream",
     "text": [
      "1 loop, best of 3: 23.4 s per loop\n"
     ]
    }
   ],
   "source": [
    "TrU, TrD = pca(TrImgs)"
   ]
  },
  {
   "cell_type": "code",
   "execution_count": 14,
   "metadata": {
    "collapsed": false
   },
   "outputs": [
    {
     "data": {
      "text/plain": [
       "array([-0.11724153,  0.15244263,  0.09091978, -0.07449831,  0.13417227,\n",
       "        0.14962106,  0.02044925,  0.06400325,  0.10166459,  0.06275143,\n",
       "       -0.08154382,  0.20182932, -0.02694728,  0.09722834, -0.02008998,\n",
       "        0.10069431, -0.1256252 , -0.01222081, -0.00700865,  0.06172585,\n",
       "        0.05109184,  0.12045582, -0.01119629, -0.01791033,  0.02059552,\n",
       "        0.03538888,  0.0144084 , -0.05251936,  0.10262452, -0.0276722 ,\n",
       "       -0.04608605, -0.03231712,  0.09548377,  0.12212626,  0.13609873,\n",
       "       -0.03975213,  0.01774771, -0.0446409 ,  0.12047562, -0.14883418,\n",
       "        0.0790665 ,  0.05778144, -0.04393678,  0.0574933 ,  0.02557982,\n",
       "       -0.24831733,  0.16799736,  0.01601348,  0.0707537 , -0.09454078,\n",
       "       -0.10323904,  0.19361539, -0.01691181, -0.04528468, -0.09017408,\n",
       "        0.19437736, -0.03773075, -0.1571809 ,  0.17445031,  0.06068408,\n",
       "       -0.07773163,  0.1236654 , -0.05402575, -0.03361148,  0.15037062,\n",
       "       -0.04108742,  0.07364541, -0.10163831,  0.14696324,  0.05785417,\n",
       "        0.01370605, -0.08811494, -0.04500985, -0.00377493,  0.1277848 ,\n",
       "        0.06916781, -0.19149116, -0.20206716,  0.17183105,  0.15230356,\n",
       "        0.14135012,  0.04588405,  0.01531526, -0.07179525, -0.04067742,\n",
       "       -0.02706982,  0.04395723,  0.15299865,  0.09959398, -0.00798686,\n",
       "        0.15073661,  0.09396064, -0.03156248, -0.22152992, -0.04477077,\n",
       "       -0.02668487,  0.04906527,  0.00870224, -0.04492838,  0.02000518])"
      ]
     },
     "execution_count": 14,
     "metadata": {},
     "output_type": "execute_result"
    }
   ],
   "source": [
    "np.save('training_set_principle_components.dat',TrU)\n",
    "np.save('training_set_variances.dat',TrD)"
   ]
  },
  {
   "cell_type": "code",
   "execution_count": null,
   "metadata": {
    "collapsed": true
   },
   "outputs": [],
   "source": []
  }
 ],
 "metadata": {
  "kernelspec": {
   "display_name": "Python 2",
   "language": "python",
   "name": "python2"
  },
  "language_info": {
   "codemirror_mode": {
    "name": "ipython",
    "version": 2
   },
   "file_extension": ".py",
   "mimetype": "text/x-python",
   "name": "python",
   "nbconvert_exporter": "python",
   "pygments_lexer": "ipython2",
   "version": "2.7.12"
  }
 },
 "nbformat": 4,
 "nbformat_minor": 2
}
